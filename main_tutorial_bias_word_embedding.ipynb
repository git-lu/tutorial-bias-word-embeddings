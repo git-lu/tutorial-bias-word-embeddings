{
  "nbformat": 4,
  "nbformat_minor": 0,
  "metadata": {
    "colab": {
      "name": "main-tutorial-bias-word-embedding.ipynb",
      "provenance": [],
      "collapsed_sections": [
        "j580hhNJC3u2"
      ]
    },
    "kernelspec": {
      "display_name": "Python 3",
      "language": "python",
      "name": "python3"
    },
    "language_info": {
      "codemirror_mode": {
        "name": "ipython",
        "version": 3
      },
      "file_extension": ".py",
      "mimetype": "text/x-python",
      "name": "python",
      "nbconvert_exporter": "python",
      "pygments_lexer": "ipython3",
      "version": "3.8.3"
    }
  },
  "cells": [
    {
      "cell_type": "markdown",
      "metadata": {
        "id": "NOL9zUq9C3up"
      },
      "source": [
        "# Diagnosing and mitigatting BIAS in Word Embeddings\n",
        "\n",
        "Based on the tutorial https://learn.responsibly.ai/word-embedding\n",
        "\n",
        "Powered by [`responsibly`](https://docs.responsibly.ai/) - Toolkit for auditing and mitigating bias and fairness of machine learning systems 🔎🤖🧰\n",
        "\n",
        "# Overview\n",
        "\n",
        "We will be working on gender bias. In a nutshell we will: \n",
        "1. **Identify the gender sub-space**: we will be constructing a direction, or in a more general sense a **sub-space** in which we can distinguish the components of the gender bias. \n",
        "\n",
        "2. Hands on mitigation!\n",
        "\n",
        "  2.1. **Neutralize**: given a *set of words that should be unbiased*, in our case gender neutral professions, this technique ensures that these words are in the middle of the previously identified subspace.\n",
        "\n",
        "  2.2 **Equalize**: this technique works on *words* that should be neutral regarding to sets of words that represent a concept in different gender directions, for example {grandmother, grandfather}. After the equalization, the words that we consider should be neutral regarding gender (or the particular bias) will be equidistant to all the words of the set.\n",
        "\n",
        "In all these techniques we refer to *sets of words* that are relevant to our bias analysis. These sets of words are a **key component** in all of the techniques we will be working on this workshop, and should be carefully ellaborated for each particular use case.\n",
        "\n",
        "\n",
        "## Disclaimers\n",
        "\n",
        "We focus on gender bias, and treat it as binary for the simplicity in this work. Nevertheless, gender is a complex social construct, and we should keep it in mind when we go back from a learning context to the real-world."
      ]
    },
    {
      "cell_type": "markdown",
      "metadata": {
        "id": "idhysORlC3uy"
      },
      "source": [
        " # Setup"
      ]
    },
    {
      "cell_type": "markdown",
      "metadata": {
        "id": "Vn-4xIh6C3uz"
      },
      "source": [
        "🛠️ Install `responsibly`"
      ]
    },
    {
      "cell_type": "code",
      "metadata": {
        "id": "_nQ508U3C3uz",
        "colab": {
          "base_uri": "https://localhost:8080/"
        },
        "outputId": "7e242822-bc17-4553-ae1a-06028a272d9c"
      },
      "source": [
        "%pip install --user responsibly"
      ],
      "execution_count": 1,
      "outputs": [
        {
          "output_type": "stream",
          "text": [
            "Requirement already satisfied: responsibly in /root/.local/lib/python3.7/site-packages (0.1.3)\n",
            "Requirement already satisfied: gensim<3.8,>=3.7 in /root/.local/lib/python3.7/site-packages (from responsibly) (3.7.3)\n",
            "Requirement already satisfied: six>=1.10 in /usr/local/lib/python3.7/dist-packages (from responsibly) (1.15.0)\n",
            "Requirement already satisfied: click>=6.0 in /usr/local/lib/python3.7/dist-packages (from responsibly) (7.1.2)\n",
            "Requirement already satisfied: numpy>=1.15 in /usr/local/lib/python3.7/dist-packages (from responsibly) (1.19.5)\n",
            "Requirement already satisfied: seaborn>=0.9 in /usr/local/lib/python3.7/dist-packages (from responsibly) (0.11.1)\n",
            "Requirement already satisfied: tqdm>=4.24 in /usr/local/lib/python3.7/dist-packages (from responsibly) (4.41.1)\n",
            "Requirement already satisfied: scipy>=1.1 in /usr/local/lib/python3.7/dist-packages (from responsibly) (1.4.1)\n",
            "Requirement already satisfied: matplotlib<3,>=2.2 in /root/.local/lib/python3.7/site-packages (from responsibly) (2.2.5)\n",
            "Requirement already satisfied: scikit-learn>=0.19 in /usr/local/lib/python3.7/dist-packages (from responsibly) (0.22.2.post1)\n",
            "Requirement already satisfied: pandas>=0.23 in /usr/local/lib/python3.7/dist-packages (from responsibly) (1.1.5)\n",
            "Requirement already satisfied: mlxtend<0.17,>=0.13 in /usr/local/lib/python3.7/dist-packages (from responsibly) (0.14.0)\n",
            "Requirement already satisfied: tabulate>=0.8 in /usr/local/lib/python3.7/dist-packages (from responsibly) (0.8.9)\n",
            "Requirement already satisfied: smart-open>=1.7.0 in /usr/local/lib/python3.7/dist-packages (from gensim<3.8,>=3.7->responsibly) (5.0.0)\n",
            "Requirement already satisfied: pytz in /usr/local/lib/python3.7/dist-packages (from matplotlib<3,>=2.2->responsibly) (2018.9)\n",
            "Requirement already satisfied: python-dateutil>=2.1 in /usr/local/lib/python3.7/dist-packages (from matplotlib<3,>=2.2->responsibly) (2.8.1)\n",
            "Requirement already satisfied: cycler>=0.10 in /usr/local/lib/python3.7/dist-packages (from matplotlib<3,>=2.2->responsibly) (0.10.0)\n",
            "Requirement already satisfied: pyparsing!=2.0.4,!=2.1.2,!=2.1.6,>=2.0.1 in /usr/local/lib/python3.7/dist-packages (from matplotlib<3,>=2.2->responsibly) (2.4.7)\n",
            "Requirement already satisfied: kiwisolver>=1.0.1 in /usr/local/lib/python3.7/dist-packages (from matplotlib<3,>=2.2->responsibly) (1.3.1)\n",
            "Requirement already satisfied: joblib>=0.11 in /usr/local/lib/python3.7/dist-packages (from scikit-learn>=0.19->responsibly) (1.0.1)\n",
            "Requirement already satisfied: setuptools in /usr/local/lib/python3.7/dist-packages (from mlxtend<0.17,>=0.13->responsibly) (56.1.0)\n"
          ],
          "name": "stdout"
        }
      ]
    },
    {
      "cell_type": "markdown",
      "metadata": {
        "id": "7KVoylBYC3u0"
      },
      "source": [
        "\n",
        "**Restart** the Kernel/Runtime (use the menu on top or the botton in the notebook), **skip** the installation cell (`!pip install --user responsibly`) and **run** the cell below (`import responsibly`)"
      ]
    },
    {
      "cell_type": "markdown",
      "metadata": {
        "id": "rU1uolhsC3u0"
      },
      "source": [
        "Validate Installation of `responsibly`\n",
        "<big>🛠️</big>"
      ]
    },
    {
      "cell_type": "code",
      "metadata": {
        "id": "E63RXd26C3u0",
        "colab": {
          "base_uri": "https://localhost:8080/",
          "height": 35
        },
        "outputId": "2211aeee-2712-45c7-f9e3-379c7520e5aa"
      },
      "source": [
        "import responsibly\n",
        "\n",
        "# You should get '0.1.3'\n",
        "responsibly.__version__"
      ],
      "execution_count": 2,
      "outputs": [
        {
          "output_type": "execute_result",
          "data": {
            "application/vnd.google.colaboratory.intrinsic+json": {
              "type": "string"
            },
            "text/plain": [
              "'0.1.3'"
            ]
          },
          "metadata": {
            "tags": []
          },
          "execution_count": 2
        }
      ]
    },
    {
      "cell_type": "markdown",
      "metadata": {
        "id": "ND0y48N0C3u1"
      },
      "source": [
        "# Examples of Bias in Language Technology\n",
        "\n",
        "There are many examples of the impact of bias\n",
        "in language technology.\n",
        "In [`this notebook`](https://colab.research.google.com/drive/1leU5YU_XYzq8Mcn5xqLivkRycorncxnW) we've collected a few."
      ]
    },
    {
      "cell_type": "markdown",
      "metadata": {
        "id": "j580hhNJC3u2"
      },
      "source": [
        "# Word Embeddings"
      ]
    },
    {
      "cell_type": "markdown",
      "metadata": {
        "id": "0pCZrVekC3u2"
      },
      "source": [
        "## How can we represent language in a machine understandable way?\n",
        "It's clear that natural language is not machine interpretable, so \n",
        "we need some kind of *dictionary* 📖 to transform/encode\n",
        "\n",
        "→ from a human representation (words) 🗣 🔡\n",
        "\n",
        "→ to a machine representation (numbers) 🤖 🔢\n",
        "\n",
        "A word embedding is a learned representation for text where words that have the same meaning have a similar representation."
      ]
    },
    {
      "cell_type": "markdown",
      "metadata": {
        "id": "L4jB1Ex7FeJ5"
      },
      "source": [
        "To get a grasp on some basic embeddings properties, check [this notebook](https://colab.research.google.com/drive/1oCTFCSSkB08_ASWDkpsFYzjW3PvbI60b?usp=sharing)"
      ]
    },
    {
      "cell_type": "markdown",
      "metadata": {
        "id": "uJx1tKxrC3vA"
      },
      "source": [
        "# Diagnosing Gender Bias on Word Embeddings\n",
        "\n",
        "To diagnose gender bias, we will be using techniques developed by Bolukbasi Tolga, Kai-Wei Chang, James Y. Zou, Venkatesh Saligrama, and Adam T. Kalai. [Man is to computer programmer as woman is to homemaker? debiasing word embeddings](https://arxiv.org/abs/1607.06520). NIPS 2016.\n",
        "\n",
        "We will be diagnosing bias on [Word2Vec](https://code.google.com/archive/p/word2vec/) - Google News - 100B tokens, 3M vocab, cased, 300d vectors - only lowercase vocab extracted\n",
        "\n",
        "Keep in mind, the data is from Google News, the writers are professional journalists."
      ]
    },
    {
      "cell_type": "markdown",
      "metadata": {
        "id": "O9Q-3tQdC3u_"
      },
      "source": [
        "### Key concept: vector analogies\n",
        "\n",
        "One interesting property about word embeddings is that we can easily generate analogies. "
      ]
    },
    {
      "cell_type": "markdown",
      "metadata": {
        "id": "vTl21bZiC3u_"
      },
      "source": [
        "<img src=\"https://github.com/ResponsiblyAI/word-embedding/blob/main/images/linear-relationships.png?raw=1\" />\n",
        "\n",
        "<small>Source: [Tensorflow Documentation](https://www.tensorflow.org/tutorials/representation/word2vec)</small>"
      ]
    },
    {
      "cell_type": "markdown",
      "metadata": {
        "id": "AuVag4eUv7QC"
      },
      "source": [
        "Loaded using [`responsibly`](http://docs.responsibly.ai) package, the function [`responsibly.we.load_w2v_small`]() returns a [`gensim`](https://radimrehurek.com/gensim/)'s [`KeyedVectors`](https://radimrehurek.com/gensim/models/keyedvectors.html#gensim.models.keyedvectors.KeyedVectors) object.\n"
      ]
    },
    {
      "cell_type": "code",
      "metadata": {
        "id": "P8T1Vu6mC3vA"
      },
      "source": [
        "from responsibly.we import load_w2v_small\n",
        "\n",
        "w2v_small = load_w2v_small()"
      ],
      "execution_count": 3,
      "outputs": []
    },
    {
      "cell_type": "code",
      "metadata": {
        "colab": {
          "base_uri": "https://localhost:8080/"
        },
        "id": "y1qaEZEMl7Jn",
        "outputId": "697dd8e7-5fbb-4d14-d1c6-40aef6d2614c"
      },
      "source": [
        "# man:king :: woman:?\n",
        "# king - man + woman = ?\n",
        "\n",
        "w2v_small.most_similar(positive=['king', 'woman'],\n",
        "                       negative=['man'])"
      ],
      "execution_count": 4,
      "outputs": [
        {
          "output_type": "execute_result",
          "data": {
            "text/plain": [
              "[('queen', 0.7118192911148071),\n",
              " ('monarch', 0.6189674139022827),\n",
              " ('princess', 0.5902431011199951),\n",
              " ('prince', 0.5377321243286133),\n",
              " ('kings', 0.5236842632293701),\n",
              " ('queens', 0.5181134939193726),\n",
              " ('monarchy', 0.5087413191795349),\n",
              " ('throne', 0.5005807876586914),\n",
              " ('royal', 0.493820458650589),\n",
              " ('ruler', 0.49092739820480347)]"
            ]
          },
          "metadata": {
            "tags": []
          },
          "execution_count": 4
        }
      ]
    },
    {
      "cell_type": "code",
      "metadata": {
        "colab": {
          "base_uri": "https://localhost:8080/"
        },
        "id": "9gwM2qSOl7Jp",
        "outputId": "379cef30-c5cf-4d66-fa35-d489c018daa7"
      },
      "source": [
        "w2v_small.most_similar(positive=['big', 'smaller'],\n",
        "                       negative=['small'])"
      ],
      "execution_count": 5,
      "outputs": [
        {
          "output_type": "execute_result",
          "data": {
            "text/plain": [
              "[('bigger', 0.7836998105049133),\n",
              " ('larger', 0.5866795778274536),\n",
              " ('biggest', 0.5240509510040283),\n",
              " ('huge', 0.5084124207496643),\n",
              " ('sharper', 0.48242905735969543),\n",
              " ('heavier', 0.4784499406814575),\n",
              " ('tougher', 0.46322107315063477),\n",
              " ('better', 0.46317416429519653),\n",
              " ('major', 0.4562188386917114),\n",
              " ('quicker', 0.4514269232749939)]"
            ]
          },
          "metadata": {
            "tags": []
          },
          "execution_count": 5
        }
      ]
    },
    {
      "cell_type": "markdown",
      "metadata": {
        "id": "JGez5QZIl7Jp"
      },
      "source": [
        "## Think about a DIRECTION in word embedding as a RELATION\n",
        "\n",
        "## $\\overrightarrow{she} - \\overrightarrow{he}$\n",
        "## $\\overrightarrow{smaller} - \\overrightarrow{small}$\n",
        "## $\\overrightarrow{Spain} - \\overrightarrow{Madrid}$\n",
        "\n",
        "\n",
        "**Keep in mind that this direction is not a word vector by itself!**"
      ]
    },
    {
      "cell_type": "code",
      "metadata": {
        "id": "GRgutcU5C3u_",
        "colab": {
          "base_uri": "https://localhost:8080/"
        },
        "outputId": "45244d10-f272-4da7-e943-8037e05728c8"
      },
      "source": [
        "# man:king :: woman:?\n",
        "# king - man + woman = ?\n",
        "\n",
        "w2v_small.most_similar(positive=['king', 'woman'],\n",
        "                       negative=['man'])"
      ],
      "execution_count": 6,
      "outputs": [
        {
          "output_type": "execute_result",
          "data": {
            "text/plain": [
              "[('queen', 0.7118192911148071),\n",
              " ('monarch', 0.6189674139022827),\n",
              " ('princess', 0.5902431011199951),\n",
              " ('prince', 0.5377321243286133),\n",
              " ('kings', 0.5236842632293701),\n",
              " ('queens', 0.5181134939193726),\n",
              " ('monarchy', 0.5087413191795349),\n",
              " ('throne', 0.5005807876586914),\n",
              " ('royal', 0.493820458650589),\n",
              " ('ruler', 0.49092739820480347)]"
            ]
          },
          "metadata": {
            "tags": []
          },
          "execution_count": 6
        }
      ]
    },
    {
      "cell_type": "code",
      "metadata": {
        "id": "02Rm6_wuC3u_",
        "colab": {
          "base_uri": "https://localhost:8080/"
        },
        "outputId": "81eabd62-0ae1-4a74-e891-c3275a1f9119"
      },
      "source": [
        "w2v_small.most_similar(positive=['big', 'smaller'],\n",
        "                       negative=['small'])"
      ],
      "execution_count": 7,
      "outputs": [
        {
          "output_type": "execute_result",
          "data": {
            "text/plain": [
              "[('bigger', 0.7836998105049133),\n",
              " ('larger', 0.5866795778274536),\n",
              " ('biggest', 0.5240509510040283),\n",
              " ('huge', 0.5084124207496643),\n",
              " ('sharper', 0.48242905735969543),\n",
              " ('heavier', 0.4784499406814575),\n",
              " ('tougher', 0.46322107315063477),\n",
              " ('better', 0.46317416429519653),\n",
              " ('major', 0.4562188386917114),\n",
              " ('quicker', 0.4514269232749939)]"
            ]
          },
          "metadata": {
            "tags": []
          },
          "execution_count": 7
        }
      ]
    },
    {
      "cell_type": "markdown",
      "metadata": {
        "id": "VFoKGcr2C3vA"
      },
      "source": [
        "## Gender appropriate he-she analogies"
      ]
    },
    {
      "cell_type": "code",
      "metadata": {
        "id": "mzHt7krQC3vB",
        "colab": {
          "base_uri": "https://localhost:8080/"
        },
        "outputId": "31e675dd-b53a-4873-f41b-f378dea6fc51"
      },
      "source": [
        "# she:sister :: he:?\n",
        "# sister - she + he = ?\n",
        "\n",
        "w2v_small.most_similar(positive=['sister', 'he'],\n",
        "                       negative=['she'])"
      ],
      "execution_count": 8,
      "outputs": [
        {
          "output_type": "execute_result",
          "data": {
            "text/plain": [
              "[('brother', 0.7627110481262207),\n",
              " ('younger_brother', 0.6856132745742798),\n",
              " ('cousin', 0.6685015559196472),\n",
              " ('uncle', 0.6580697894096375),\n",
              " ('nephew', 0.65260249376297),\n",
              " ('father', 0.6411106586456299),\n",
              " ('son', 0.630827009677887),\n",
              " ('elder_brother', 0.585418701171875),\n",
              " ('brothers', 0.5706700086593628),\n",
              " ('twin_brother', 0.5622221231460571)]"
            ]
          },
          "metadata": {
            "tags": []
          },
          "execution_count": 8
        }
      ]
    },
    {
      "cell_type": "markdown",
      "metadata": {
        "id": "HctdMqv8C3vB"
      },
      "source": [
        "```\n",
        "queen-king\n",
        "waitress-waiter\n",
        "sister-brother\n",
        "mother-father\n",
        "ovarian_cancer-prostate_cancer\n",
        "convent-monastery\n",
        "```"
      ]
    },
    {
      "cell_type": "markdown",
      "metadata": {
        "id": "JmdyMQbBC3vB"
      },
      "source": [
        "## Gender stereotype he-she analogies"
      ]
    },
    {
      "cell_type": "code",
      "metadata": {
        "id": "1Lq26hcCC3vB",
        "colab": {
          "base_uri": "https://localhost:8080/"
        },
        "outputId": "713d63ea-bf25-4623-dc1f-406fd872aa41"
      },
      "source": [
        "w2v_small.most_similar(positive=['nurse', 'he'],\n",
        "                       negative=['she'])"
      ],
      "execution_count": 9,
      "outputs": [
        {
          "output_type": "execute_result",
          "data": {
            "text/plain": [
              "[('doctor', 0.5559606552124023),\n",
              " ('medic', 0.5425378680229187),\n",
              " ('physician', 0.5394272208213806),\n",
              " ('surgeon', 0.5160146951675415),\n",
              " ('nurses', 0.49741458892822266),\n",
              " ('paramedic', 0.4924110770225525),\n",
              " ('patient', 0.46544164419174194),\n",
              " ('doctors', 0.4639861285686493),\n",
              " ('nursing', 0.46371760964393616),\n",
              " ('registered_nurse', 0.46238088607788086)]"
            ]
          },
          "metadata": {
            "tags": []
          },
          "execution_count": 9
        }
      ]
    },
    {
      "cell_type": "markdown",
      "metadata": {
        "id": "KVDAu5JbC3vB"
      },
      "source": [
        "```\n",
        "sewing-carpentry\n",
        "nurse-doctor\n",
        "blond-burly\n",
        "giggle-chuckle\n",
        "sassy-snappy\n",
        "volleyball-football\n",
        "register_nurse-physician\n",
        "interior_designer-architect\n",
        "feminism-conservatism\n",
        "vocalist-guitarist\n",
        "diva-superstar\n",
        "cupcakes-pizzas\n",
        "housewife-shopkeeper\n",
        "softball-baseball\n",
        "cosmetics-pharmaceuticals\n",
        "petite-lanky\n",
        "charming-affable\n",
        "hairdresser-barber\n",
        "```"
      ]
    },
    {
      "cell_type": "markdown",
      "metadata": {
        "id": "-p30UdbhC3vB"
      },
      "source": [
        "### Methodological Issue: The unrestricted version of analogy generation\n",
        "\n",
        "It's important to take into consideration the fact that when generating an analogy, the method retrieves the most similar **different** word. \n",
        "So in the case of the very much used doctor - nurse analogy, we are specifically asking the model not to retrieve doctor. \n",
        "\n",
        "On top of that many recent studies show that the method of generating analogies enforce producing gender sterotype ones!\n",
        "\n",
        "Nissim, M., van Noord, R., van der Goot, R. (2019). [Fair is Better than Sensational: Man is to Doctor as Woman is to Doctor](https://arxiv.org/abs/1905.09866).\n"
      ]
    },
    {
      "cell_type": "code",
      "metadata": {
        "id": "jr2eqeFJC3vC"
      },
      "source": [
        "# this method doesn't present the constraint that the most similar word\n",
        "# is different from the provided ones\n",
        "from responsibly.we import most_similar"
      ],
      "execution_count": 10,
      "outputs": []
    },
    {
      "cell_type": "code",
      "metadata": {
        "id": "iq1gAfdhC3vC",
        "colab": {
          "base_uri": "https://localhost:8080/"
        },
        "outputId": "85512181-2f56-4a64-b02d-89f7612b7ad4"
      },
      "source": [
        "most_similar(w2v_small,\n",
        "             positive=['nurse', 'he'],\n",
        "             negative=['she'])"
      ],
      "execution_count": 11,
      "outputs": [
        {
          "output_type": "execute_result",
          "data": {
            "text/plain": [
              "[('nurse', 0.6655273495904702),\n",
              " ('doctor', 0.5559606137533434),\n",
              " ('medic', 0.5425378462972461),\n",
              " ('physician', 0.539427232345591),\n",
              " ('surgeon', 0.516014718645784),\n",
              " ('nurses', 0.49741458813916767),\n",
              " ('paramedic', 0.4924111160675495),\n",
              " ('patient', 0.46544163768108626),\n",
              " ('doctors', 0.46398611187975947),\n",
              " ('nursing', 0.4637176082334782)]"
            ]
          },
          "metadata": {
            "tags": []
          },
          "execution_count": 11
        }
      ]
    },
    {
      "cell_type": "markdown",
      "metadata": {
        "id": "KDLn6n64C3vC"
      },
      "source": [
        "## What can we take from analogies? Gender Direction!\n",
        "\n",
        "### $\\overrightarrow{she} - \\overrightarrow{he}$"
      ]
    },
    {
      "cell_type": "code",
      "metadata": {
        "id": "6Fl65I1vC3vC"
      },
      "source": [
        "from numpy.linalg import norm\n",
        "\n",
        "gender_direction = w2v_small['she'] - w2v_small['he']\n",
        "\n",
        "gender_direction /= norm(gender_direction)"
      ],
      "execution_count": 12,
      "outputs": []
    },
    {
      "cell_type": "code",
      "metadata": {
        "id": "-6uAKJvTC3vC",
        "colab": {
          "base_uri": "https://localhost:8080/"
        },
        "outputId": "1e89d745-1634-4fd2-8ea4-0174e5b52d5e"
      },
      "source": [
        "# the @ operator returns the cosine similarity of 2 normalized vectors\n",
        "gender_direction @ w2v_small['architect']"
      ],
      "execution_count": 13,
      "outputs": [
        {
          "output_type": "execute_result",
          "data": {
            "text/plain": [
              "-0.16785555"
            ]
          },
          "metadata": {
            "tags": []
          },
          "execution_count": 13
        }
      ]
    },
    {
      "cell_type": "code",
      "metadata": {
        "id": "55MCmDhWC3vC",
        "colab": {
          "base_uri": "https://localhost:8080/"
        },
        "outputId": "892012eb-608a-4d7f-af82-387ee88d4b9f"
      },
      "source": [
        "gender_direction @ w2v_small['interior_designer']"
      ],
      "execution_count": 14,
      "outputs": [
        {
          "output_type": "execute_result",
          "data": {
            "text/plain": [
              "0.19714224"
            ]
          },
          "metadata": {
            "tags": []
          },
          "execution_count": 14
        }
      ]
    },
    {
      "cell_type": "markdown",
      "metadata": {
        "id": "KXoDjjFSC3vD"
      },
      "source": [
        "**From this, we can interprete that the word *architect* appears in more contexts with *he* than with *she*, and vice versa for *interior designer*.**"
      ]
    },
    {
      "cell_type": "markdown",
      "metadata": {
        "id": "j6_SqDfEC3vD"
      },
      "source": [
        "In practice, we calculate the gender \"direction\" using multiple definitional pair of words for better estimation (words may have more than one meaning):\n",
        "\n",
        "- woman - man\n",
        "- girl - boy\n",
        "- she - he\n",
        "- mother - father\n",
        "- daughter - son\n",
        "- gal - guy\n",
        "- female - male\n",
        "- her - his\n",
        "- herself - himself\n",
        "- Mary - John\n",
        "\n",
        "Note that this list of words is a very important input of the analysis."
      ]
    },
    {
      "cell_type": "markdown",
      "metadata": {
        "id": "HiqVsyXiC3vD"
      },
      "source": [
        "### Try some words by yourself\n",
        "In which way of the gender direction are our words located?\n",
        "\n",
        "\n",
        "⚡ Keep in mind: You are performing exploratory data analysis, and not a systemic evaluation!"
      ]
    },
    {
      "cell_type": "code",
      "metadata": {
        "id": "bvnuDrC7C3vD",
        "colab": {
          "base_uri": "https://localhost:8080/"
        },
        "outputId": "92c3dbb1-177e-45a3-90d7-b113f59657ff"
      },
      "source": [
        "gender_direction @ w2v_small['house']"
      ],
      "execution_count": 15,
      "outputs": [
        {
          "output_type": "execute_result",
          "data": {
            "text/plain": [
              "0.07210897"
            ]
          },
          "metadata": {
            "tags": []
          },
          "execution_count": 15
        }
      ]
    },
    {
      "cell_type": "code",
      "metadata": {
        "colab": {
          "base_uri": "https://localhost:8080/"
        },
        "id": "VUjcCSnLpGI7",
        "outputId": "98b69ffc-958f-4b93-a1de-711478273501"
      },
      "source": [
        "gender_direction @ w2v_small['home']"
      ],
      "execution_count": 16,
      "outputs": [
        {
          "output_type": "execute_result",
          "data": {
            "text/plain": [
              "-0.016742865"
            ]
          },
          "metadata": {
            "tags": []
          },
          "execution_count": 16
        }
      ]
    },
    {
      "cell_type": "markdown",
      "metadata": {
        "id": "9DuWu9yVC3vE"
      },
      "source": [
        "## Projections in the gender direction"
      ]
    },
    {
      "cell_type": "code",
      "metadata": {
        "id": "ucDbQ13uC3vE"
      },
      "source": [
        "from responsibly.we import GenderBiasWE\n",
        "\n",
        "w2v_small_gender_bias = GenderBiasWE(w2v_small, only_lower=True)"
      ],
      "execution_count": 17,
      "outputs": []
    },
    {
      "cell_type": "code",
      "metadata": {
        "id": "wOy5EDmRC3vE",
        "colab": {
          "base_uri": "https://localhost:8080/"
        },
        "outputId": "2bde6cf8-266e-4992-d9c8-9d61476c3408"
      },
      "source": [
        "w2v_small_gender_bias.positive_end, w2v_small_gender_bias.negative_end"
      ],
      "execution_count": 18,
      "outputs": [
        {
          "output_type": "execute_result",
          "data": {
            "text/plain": [
              "('she', 'he')"
            ]
          },
          "metadata": {
            "tags": []
          },
          "execution_count": 18
        }
      ]
    },
    {
      "cell_type": "code",
      "metadata": {
        "id": "NzlmJWFdC3vE",
        "colab": {
          "base_uri": "https://localhost:8080/"
        },
        "outputId": "94b932c0-caca-466e-e237-4a2fae2c80b6"
      },
      "source": [
        "# gender direction\n",
        "w2v_small_gender_bias.direction[:10]"
      ],
      "execution_count": 19,
      "outputs": [
        {
          "output_type": "execute_result",
          "data": {
            "text/plain": [
              "array([-0.10056252, -0.09987912, -0.05384335,  0.00480521,  0.01521063,\n",
              "       -0.01666582,  0.00932552, -0.00625998, -0.11320096,  0.03992424])"
            ]
          },
          "metadata": {
            "tags": []
          },
          "execution_count": 19
        }
      ]
    },
    {
      "cell_type": "code",
      "metadata": {
        "id": "KI8U2QhCC3vE"
      },
      "source": [
        "# list of gender neutral professions\n",
        "from responsibly.we.data import BOLUKBASI_DATA\n",
        "\n",
        "neutral_profession_names = BOLUKBASI_DATA['gender']['neutral_profession_names']"
      ],
      "execution_count": 20,
      "outputs": []
    },
    {
      "cell_type": "code",
      "metadata": {
        "id": "tAHD1RdXC3vF",
        "colab": {
          "base_uri": "https://localhost:8080/"
        },
        "outputId": "2c773246-f76e-40c8-d170-01e032d803a8"
      },
      "source": [
        "neutral_profession_names[:8]"
      ],
      "execution_count": 21,
      "outputs": [
        {
          "output_type": "execute_result",
          "data": {
            "text/plain": [
              "['accountant',\n",
              " 'acquaintance',\n",
              " 'actor',\n",
              " 'adjunct_professor',\n",
              " 'administrator',\n",
              " 'adventurer',\n",
              " 'advocate',\n",
              " 'aide']"
            ]
          },
          "metadata": {
            "tags": []
          },
          "execution_count": 21
        }
      ]
    },
    {
      "cell_type": "markdown",
      "metadata": {
        "id": "loqvR0qUC3vF"
      },
      "source": [
        "Note: Why `actor` is in the neutral profession names list while `actress` is not there?\n",
        "1. Due to the statistical nature of the method that is used to find the gender- specific and natural words\n",
        "2. That might be because `actor` nowadays is much more gender-neutral, compared to waiter-waitress (see [Wikipedia - The term Actress](https://en.wikipedia.org/wiki/Actor#The_term_actress))"
      ]
    },
    {
      "cell_type": "code",
      "metadata": {
        "id": "fLgkcOuGC3vF",
        "colab": {
          "base_uri": "https://localhost:8080/"
        },
        "outputId": "f61b9a2c-0ab4-4728-922a-cd20d29b8fd3"
      },
      "source": [
        "len(neutral_profession_names)"
      ],
      "execution_count": 22,
      "outputs": [
        {
          "output_type": "execute_result",
          "data": {
            "text/plain": [
              "303"
            ]
          },
          "metadata": {
            "tags": []
          },
          "execution_count": 22
        }
      ]
    },
    {
      "cell_type": "code",
      "metadata": {
        "id": "qby3XDrfC3vF",
        "colab": {
          "base_uri": "https://localhost:8080/"
        },
        "outputId": "7a0f1ecd-5c30-4df2-e238-1c4c28c00b38"
      },
      "source": [
        "# the same of using the @ operator on the bias direction\n",
        "\n",
        "w2v_small_gender_bias.project_on_direction(neutral_profession_names[0])"
      ],
      "execution_count": 23,
      "outputs": [
        {
          "output_type": "execute_result",
          "data": {
            "text/plain": [
              "0.008421647916552755"
            ]
          },
          "metadata": {
            "tags": []
          },
          "execution_count": 23
        }
      ]
    },
    {
      "cell_type": "markdown",
      "metadata": {
        "id": "th7UryxdC3vF"
      },
      "source": [
        "**Let's visualize the projections of professions (neutral and specific by the orthography) on the gender direction**"
      ]
    },
    {
      "cell_type": "code",
      "metadata": {
        "id": "juiycs76C3vF",
        "colab": {
          "base_uri": "https://localhost:8080/",
          "height": 621
        },
        "outputId": "3e0cca44-3254-4dec-fbc8-2bb0d4836c42"
      },
      "source": [
        "import matplotlib.pylab as plt\n",
        "\n",
        "f, ax = plt.subplots(1, figsize=(10, 10))\n",
        "\n",
        "w2v_small_gender_bias.plot_projection_scores(n_extreme=20, ax=ax);"
      ],
      "execution_count": 24,
      "outputs": [
        {
          "output_type": "display_data",
          "data": {
            "image/png": "[encoded data removed]",
            "text/plain": [
              "<Figure size 720x720 with 1 Axes>"
            ]
          },
          "metadata": {
            "tags": [],
            "needs_background": "light"
          }
        }
      ]
    },
    {
      "cell_type": "markdown",
      "metadata": {
        "id": "K1MgiofyC3vF"
      },
      "source": [
        "EXTRA: Demo - Visualizing gender bias with [Word Clouds](http://wordbias.umiacs.umd.edu/)"
      ]
    },
    {
      "cell_type": "markdown",
      "metadata": {
        "id": "1IlRykZjC3vG"
      },
      "source": [
        "### The projections of occupation words on the gender direction are related to the real world!\n",
        "\n",
        "Let's take the percentage of female in various occupations from the Labor Force Statistics of 2017 Population Survey.\n",
        "\n",
        "Taken from: https://arxiv.org/abs/1804.06876\n",
        "\n",
        "Also: \n",
        "Garg, N., Schiebinger, L., Jurafsky, D., & Zou, J. (2018). [Word embeddings quantify 100 years of gender and ethnic stereotypes](https://www.pnas.org/content/pnas/115/16/E3635.full.pdf). Proceedings of the National Academy of Sciences, 115(16), E3635-E3644.\n"
      ]
    },
    {
      "cell_type": "code",
      "metadata": {
        "id": "-xrMYFBXC3vG",
        "colab": {
          "base_uri": "https://localhost:8080/"
        },
        "outputId": "a5feab20-b384-4a40-e87f-3eea920825ed"
      },
      "source": [
        "from operator import itemgetter  # 🛠️ For idiomatic sorting in Python\n",
        "\n",
        "from responsibly.we.data import OCCUPATION_FEMALE_PRECENTAGE\n",
        "\n",
        "sorted(OCCUPATION_FEMALE_PRECENTAGE.items(), key=itemgetter(1))"
      ],
      "execution_count": 25,
      "outputs": [
        {
          "output_type": "execute_result",
          "data": {
            "text/plain": [
              "[('carpenter', 2),\n",
              " ('mechanician', 4),\n",
              " ('construction_worker', 4),\n",
              " ('laborer', 4),\n",
              " ('driver', 6),\n",
              " ('sheriff', 14),\n",
              " ('mover', 18),\n",
              " ('developer', 20),\n",
              " ('farmer', 22),\n",
              " ('guard', 22),\n",
              " ('chief', 27),\n",
              " ('janitor', 34),\n",
              " ('lawyer', 35),\n",
              " ('cook', 38),\n",
              " ('physician', 38),\n",
              " ('ceo', 39),\n",
              " ('analyst', 41),\n",
              " ('manager', 43),\n",
              " ('supervisor', 44),\n",
              " ('salesperson', 48),\n",
              " ('editor', 52),\n",
              " ('designers', 54),\n",
              " ('accountant', 61),\n",
              " ('auditor', 61),\n",
              " ('writer', 63),\n",
              " ('baker', 65),\n",
              " ('clerk', 72),\n",
              " ('cashier', 73),\n",
              " ('counselors', 73),\n",
              " ('attendant', 76),\n",
              " ('teacher', 78),\n",
              " ('sewer', 80),\n",
              " ('librarian', 84),\n",
              " ('assistant', 85),\n",
              " ('cleaner', 89),\n",
              " ('housekeeper', 89),\n",
              " ('nurse', 90),\n",
              " ('receptionist', 90),\n",
              " ('hairdressers', 92),\n",
              " ('secretary', 95)]"
            ]
          },
          "metadata": {
            "tags": []
          },
          "execution_count": 25
        }
      ]
    },
    {
      "cell_type": "code",
      "metadata": {
        "id": "i2j4_uCFC3vG",
        "colab": {
          "base_uri": "https://localhost:8080/",
          "height": 513
        },
        "outputId": "3bd1b86b-c8a0-4845-88c0-58803e61f6f6"
      },
      "source": [
        "f, ax = plt.subplots(1, figsize=(10, 8))\n",
        "\n",
        "w2v_small_gender_bias.plot_factual_association(ax=ax);"
      ],
      "execution_count": 26,
      "outputs": [
        {
          "output_type": "display_data",
          "data": {
            "image/png": "[encoded data removed]",
            "text/plain": [
              "<Figure size 720x576 with 1 Axes>"
            ]
          },
          "metadata": {
            "tags": [],
            "needs_background": "light"
          }
        }
      ]
    },
    {
      "cell_type": "markdown",
      "metadata": {
        "id": "KwZmL19LC3vG"
      },
      "source": [
        "## Direct Bias Measure\n",
        "\n",
        "1. Project each **neutral profession names** on the gender direction\n",
        "2. Calculate the absolute value of each projection\n",
        "3. Average it all"
      ]
    },
    {
      "cell_type": "code",
      "metadata": {
        "id": "MdXFI9EqC3vG",
        "colab": {
          "base_uri": "https://localhost:8080/"
        },
        "outputId": "d416251b-15e8-473b-b461-563398384759"
      },
      "source": [
        "# using responsibly\n",
        "\n",
        "w2v_small_gender_bias.calc_direct_bias()"
      ],
      "execution_count": 27,
      "outputs": [
        {
          "output_type": "execute_result",
          "data": {
            "text/plain": [
              "0.07307905466893873"
            ]
          },
          "metadata": {
            "tags": []
          },
          "execution_count": 27
        }
      ]
    },
    {
      "cell_type": "code",
      "metadata": {
        "id": "MbB7U8IFC3vH",
        "colab": {
          "base_uri": "https://localhost:8080/"
        },
        "outputId": "e028d2fb-46d7-4cd1-c7be-6e140941d4ab"
      },
      "source": [
        "# what responsibly does:\n",
        "\n",
        "neutral_profession_projections = [w2v_small[word] @ w2v_small_gender_bias.direction\n",
        "                                  for word in neutral_profession_names]\n",
        "\n",
        "abs_neutral_profession_projections = [abs(proj) for proj in neutral_profession_projections]\n",
        "\n",
        "sum(abs_neutral_profession_projections) / len(abs_neutral_profession_projections)"
      ],
      "execution_count": 28,
      "outputs": [
        {
          "output_type": "execute_result",
          "data": {
            "text/plain": [
              "0.0730790545759565"
            ]
          },
          "metadata": {
            "tags": []
          },
          "execution_count": 28
        }
      ]
    },
    {
      "cell_type": "markdown",
      "metadata": {
        "id": "Dv_Zav4DC3vH"
      },
      "source": [
        "What are the assumptions of the direct bias measure? How the choice of neutral word effect on the definition of the bias? Can we measure **all** of the gender bias with this technique? \n",
        "\n",
        "An interesing thing of this method is that it gives us a quantitative measure of the bias present in the embedding, but keep in mind that this number only takes into consideration the bias present in the assumed neutral words.\n",
        "\n",
        "What about words that are not in the list? Is this list comprehensive enough?"
      ]
    },
    {
      "cell_type": "markdown",
      "metadata": {
        "id": "Z3CzXF0iC3vH"
      },
      "source": [
        "## Indirect Bias Measure\n",
        "\n",
        "The direct bias analyzed above manifests in the relative similarities between gender-specific words and gender neutral words. Gender bias could also affect the relative geometry between gender\n",
        "neutral words themselves. \n",
        "\n",
        "To test this indirect gender bias, as proposed by Bolukbasi et all, we take pairs of words that are gender-neutral, for example softball and football and project all the occupation words onto the softball − football direction.\n",
        "\n",
        "\n",
        "For instance, the fact that the words bookkeeper\n",
        "and receptionist are much closer to softball than football may result indirectly from female associations with bookkeeper, receptionist and softball. It’s important to point out that that many pairs of male-biased (or female-biased) words have legitimate associations having nothing to do with gender. For example footballer and football."
      ]
    },
    {
      "cell_type": "code",
      "metadata": {
        "id": "hmHvybUKC3vH",
        "colab": {
          "base_uri": "https://localhost:8080/",
          "height": 390
        },
        "outputId": "da109ab8-5bca-4321-e9de-e53366632688"
      },
      "source": [
        "w2v_small_gender_bias.generate_closest_words_indirect_bias('softball',\n",
        "                                                           'football')"
      ],
      "execution_count": 29,
      "outputs": [
        {
          "output_type": "execute_result",
          "data": {
            "text/html": [
              "<div>\n",
              "<style scoped>\n",
              "    .dataframe tbody tr th:only-of-type {\n",
              "        vertical-align: middle;\n",
              "    }\n",
              "\n",
              "    .dataframe tbody tr th {\n",
              "        vertical-align: top;\n",
              "    }\n",
              "\n",
              "    .dataframe thead th {\n",
              "        text-align: right;\n",
              "    }\n",
              "</style>\n",
              "<table border=\"1\" class=\"dataframe\">\n",
              "  <thead>\n",
              "    <tr style=\"text-align: right;\">\n",
              "      <th></th>\n",
              "      <th></th>\n",
              "      <th>projection</th>\n",
              "      <th>indirect_bias</th>\n",
              "    </tr>\n",
              "    <tr>\n",
              "      <th>end</th>\n",
              "      <th>word</th>\n",
              "      <th></th>\n",
              "      <th></th>\n",
              "    </tr>\n",
              "  </thead>\n",
              "  <tbody>\n",
              "    <tr>\n",
              "      <th rowspan=\"5\" valign=\"top\">softball</th>\n",
              "      <th>bookkeeper</th>\n",
              "      <td>0.178528</td>\n",
              "      <td>0.201158</td>\n",
              "    </tr>\n",
              "    <tr>\n",
              "      <th>receptionist</th>\n",
              "      <td>0.158782</td>\n",
              "      <td>0.672343</td>\n",
              "    </tr>\n",
              "    <tr>\n",
              "      <th>registered_nurse</th>\n",
              "      <td>0.156625</td>\n",
              "      <td>0.287150</td>\n",
              "    </tr>\n",
              "    <tr>\n",
              "      <th>waitress</th>\n",
              "      <td>0.145104</td>\n",
              "      <td>0.317843</td>\n",
              "    </tr>\n",
              "    <tr>\n",
              "      <th>paralegal</th>\n",
              "      <td>0.142549</td>\n",
              "      <td>0.372737</td>\n",
              "    </tr>\n",
              "    <tr>\n",
              "      <th rowspan=\"5\" valign=\"top\">football</th>\n",
              "      <th>cleric</th>\n",
              "      <td>-0.165978</td>\n",
              "      <td>0.017845</td>\n",
              "    </tr>\n",
              "    <tr>\n",
              "      <th>maestro</th>\n",
              "      <td>-0.180458</td>\n",
              "      <td>0.415805</td>\n",
              "    </tr>\n",
              "    <tr>\n",
              "      <th>pundit</th>\n",
              "      <td>-0.193207</td>\n",
              "      <td>0.101227</td>\n",
              "    </tr>\n",
              "    <tr>\n",
              "      <th>businessman</th>\n",
              "      <td>-0.195981</td>\n",
              "      <td>0.170078</td>\n",
              "    </tr>\n",
              "    <tr>\n",
              "      <th>footballer</th>\n",
              "      <td>-0.337857</td>\n",
              "      <td>0.015365</td>\n",
              "    </tr>\n",
              "  </tbody>\n",
              "</table>\n",
              "</div>"
            ],
            "text/plain": [
              "                           projection  indirect_bias\n",
              "end      word                                       \n",
              "softball bookkeeper          0.178528       0.201158\n",
              "         receptionist        0.158782       0.672343\n",
              "         registered_nurse    0.156625       0.287150\n",
              "         waitress            0.145104       0.317843\n",
              "         paralegal           0.142549       0.372737\n",
              "football cleric             -0.165978       0.017845\n",
              "         maestro            -0.180458       0.415805\n",
              "         pundit             -0.193207       0.101227\n",
              "         businessman        -0.195981       0.170078\n",
              "         footballer         -0.337857       0.015365"
            ]
          },
          "metadata": {
            "tags": []
          },
          "execution_count": 29
        }
      ]
    },
    {
      "cell_type": "code",
      "metadata": {
        "colab": {
          "base_uri": "https://localhost:8080/",
          "height": 390
        },
        "id": "_ORM2MoDtwtC",
        "outputId": "62e8bd64-d849-4ee7-ff96-a7c176528b37"
      },
      "source": [
        "w2v_small_gender_bias.generate_closest_words_indirect_bias('math',\n",
        "                                                           'art')"
      ],
      "execution_count": 30,
      "outputs": [
        {
          "output_type": "execute_result",
          "data": {
            "text/html": [
              "<div>\n",
              "<style scoped>\n",
              "    .dataframe tbody tr th:only-of-type {\n",
              "        vertical-align: middle;\n",
              "    }\n",
              "\n",
              "    .dataframe tbody tr th {\n",
              "        vertical-align: top;\n",
              "    }\n",
              "\n",
              "    .dataframe thead th {\n",
              "        text-align: right;\n",
              "    }\n",
              "</style>\n",
              "<table border=\"1\" class=\"dataframe\">\n",
              "  <thead>\n",
              "    <tr style=\"text-align: right;\">\n",
              "      <th></th>\n",
              "      <th></th>\n",
              "      <th>projection</th>\n",
              "      <th>indirect_bias</th>\n",
              "    </tr>\n",
              "    <tr>\n",
              "      <th>end</th>\n",
              "      <th>word</th>\n",
              "      <th></th>\n",
              "      <th></th>\n",
              "    </tr>\n",
              "  </thead>\n",
              "  <tbody>\n",
              "    <tr>\n",
              "      <th rowspan=\"5\" valign=\"top\">math</th>\n",
              "      <th>guidance_counselor</th>\n",
              "      <td>0.250974</td>\n",
              "      <td>0.004112</td>\n",
              "    </tr>\n",
              "    <tr>\n",
              "      <th>teacher</th>\n",
              "      <td>0.247717</td>\n",
              "      <td>0.002339</td>\n",
              "    </tr>\n",
              "    <tr>\n",
              "      <th>valedictorian</th>\n",
              "      <td>0.235697</td>\n",
              "      <td>0.009473</td>\n",
              "    </tr>\n",
              "    <tr>\n",
              "      <th>tutor</th>\n",
              "      <td>0.207957</td>\n",
              "      <td>-0.001194</td>\n",
              "    </tr>\n",
              "    <tr>\n",
              "      <th>mathematician</th>\n",
              "      <td>0.196416</td>\n",
              "      <td>-0.028330</td>\n",
              "    </tr>\n",
              "    <tr>\n",
              "      <th rowspan=\"5\" valign=\"top\">art</th>\n",
              "      <th>sculptor</th>\n",
              "      <td>-0.288942</td>\n",
              "      <td>-0.006383</td>\n",
              "    </tr>\n",
              "    <tr>\n",
              "      <th>collector</th>\n",
              "      <td>-0.293837</td>\n",
              "      <td>-0.004053</td>\n",
              "    </tr>\n",
              "    <tr>\n",
              "      <th>painter</th>\n",
              "      <td>-0.323438</td>\n",
              "      <td>-0.002841</td>\n",
              "    </tr>\n",
              "    <tr>\n",
              "      <th>curator</th>\n",
              "      <td>-0.327560</td>\n",
              "      <td>0.003784</td>\n",
              "    </tr>\n",
              "    <tr>\n",
              "      <th>artist</th>\n",
              "      <td>-0.383570</td>\n",
              "      <td>0.003042</td>\n",
              "    </tr>\n",
              "  </tbody>\n",
              "</table>\n",
              "</div>"
            ],
            "text/plain": [
              "                         projection  indirect_bias\n",
              "end  word                                         \n",
              "math guidance_counselor    0.250974       0.004112\n",
              "     teacher               0.247717       0.002339\n",
              "     valedictorian         0.235697       0.009473\n",
              "     tutor                 0.207957      -0.001194\n",
              "     mathematician         0.196416      -0.028330\n",
              "art  sculptor             -0.288942      -0.006383\n",
              "     collector            -0.293837      -0.004053\n",
              "     painter              -0.323438      -0.002841\n",
              "     curator              -0.327560       0.003784\n",
              "     artist               -0.383570       0.003042"
            ]
          },
          "metadata": {
            "tags": []
          },
          "execution_count": 30
        }
      ]
    },
    {
      "cell_type": "markdown",
      "metadata": {
        "id": "x2AxxNoXC3vH"
      },
      "source": [
        "# Hands on Mitigating Bias!\n",
        "\n",
        "> We intentionally do not reference the resulting embeddings as \"debiased\" or free from all gender bias, and\n",
        "prefer the term \"mitigating bias\" rather that \"debiasing,\" to guard against the misconception that the resulting\n",
        "embeddings are entirely \"safe\" and need not be critically evaluated for bias in downstream tasks. <small>James-Sorenson, H., & Alvarez-Melis, D. (2019). [Probabilistic Bias Mitigation in Word Embeddings](https://arxiv.org/pdf/1910.14497.pdf). arXiv preprint arXiv:1910.14497.</small>"
      ]
    },
    {
      "cell_type": "markdown",
      "metadata": {
        "id": "TlW6-I0vECj5"
      },
      "source": [
        "## Neutralize\n",
        "\n",
        "In this case, we will remove the gender projection from all the words, except the neutral-gender ones, and then normalize.\n",
        "\n",
        "This method *needs* a list of gender neutral words to neutralize, or a list of words that are inherently gendered to not neutralize. \n",
        "\n",
        "Responsibly defines a list of neutral words and neutralizes those words."
      ]
    },
    {
      "cell_type": "code",
      "metadata": {
        "id": "RzIzwzcXC3vH"
      },
      "source": [
        "w2v_small_gender_debias = w2v_small_gender_bias.debias(method='neutralize', inplace=False)"
      ],
      "execution_count": 31,
      "outputs": []
    },
    {
      "cell_type": "code",
      "metadata": {
        "colab": {
          "base_uri": "https://localhost:8080/"
        },
        "id": "uWJQg7EMNPpb",
        "outputId": "3d22cd3d-b7da-49c2-c823-2d893b95919b"
      },
      "source": [
        "len(w2v_small.vocab)"
      ],
      "execution_count": 32,
      "outputs": [
        {
          "output_type": "execute_result",
          "data": {
            "text/plain": [
              "26423"
            ]
          },
          "metadata": {
            "tags": []
          },
          "execution_count": 32
        }
      ]
    },
    {
      "cell_type": "code",
      "metadata": {
        "colab": {
          "base_uri": "https://localhost:8080/"
        },
        "id": "-sCYRrPPFz1-",
        "outputId": "82b502f3-4359-4197-d710-fc078d547418"
      },
      "source": [
        "'home' in (w2v_small_gender_bias._data['neutral_words'])"
      ],
      "execution_count": 33,
      "outputs": [
        {
          "output_type": "execute_result",
          "data": {
            "text/plain": [
              "True"
            ]
          },
          "metadata": {
            "tags": []
          },
          "execution_count": 33
        }
      ]
    },
    {
      "cell_type": "code",
      "metadata": {
        "id": "J3hgtHyxC3vH",
        "colab": {
          "base_uri": "https://localhost:8080/"
        },
        "outputId": "7a5c8425-1680-4179-c919-5890bb90bea7"
      },
      "source": [
        "print('home:',\n",
        "      'before =', w2v_small_gender_bias.model['home'] @ w2v_small_gender_bias.direction,\n",
        "      'after = ', w2v_small_gender_debias.model['home'] @ w2v_small_gender_debias.direction)"
      ],
      "execution_count": 34,
      "outputs": [
        {
          "output_type": "stream",
          "text": [
            "home: before = 0.011340496779172263 after =  -1.176245451061858e-09\n"
          ],
          "name": "stdout"
        }
      ]
    },
    {
      "cell_type": "code",
      "metadata": {
        "id": "IZC7y2I9C3vI",
        "colab": {
          "base_uri": "https://localhost:8080/"
        },
        "outputId": "75eb4ed2-a4ba-44af-e4a0-55acf9159e72"
      },
      "source": [
        "print('man:',\n",
        "      'before =', w2v_small_gender_bias.model['man'] @ w2v_small_gender_bias.direction,\n",
        "      'after = ', w2v_small_gender_debias.model['man'] @ w2v_small_gender_debias.direction)"
      ],
      "execution_count": 35,
      "outputs": [
        {
          "output_type": "stream",
          "text": [
            "man: before = -0.22095192936041713 after =  -0.2209519293604172\n"
          ],
          "name": "stdout"
        }
      ]
    },
    {
      "cell_type": "code",
      "metadata": {
        "id": "mPh777kyC3vI",
        "colab": {
          "base_uri": "https://localhost:8080/"
        },
        "outputId": "d25662d6-c581-45e1-e0ed-389d1e4a8e4a"
      },
      "source": [
        "print('woman:',\n",
        "      'before =', w2v_small_gender_bias.model['woman'] @ w2v_small_gender_bias.direction,\n",
        "      'after = ', w2v_small_gender_debias.model['woman'] @ w2v_small_gender_debias.direction)"
      ],
      "execution_count": 36,
      "outputs": [
        {
          "output_type": "stream",
          "text": [
            "woman: before = 0.3403474745246814 after =  0.3403474745246813\n"
          ],
          "name": "stdout"
        }
      ]
    },
    {
      "cell_type": "code",
      "metadata": {
        "id": "hFf08ZQmC3vI",
        "colab": {
          "base_uri": "https://localhost:8080/"
        },
        "outputId": "8cf0c20f-540e-4bf6-ca50-12c30ebe2577"
      },
      "source": [
        "w2v_small_gender_debias.calc_direct_bias()"
      ],
      "execution_count": 37,
      "outputs": [
        {
          "output_type": "execute_result",
          "data": {
            "text/plain": [
              "1.1615064677713404e-09"
            ]
          },
          "metadata": {
            "tags": []
          },
          "execution_count": 37
        }
      ]
    },
    {
      "cell_type": "code",
      "metadata": {
        "id": "G3sd0hLUC3vI",
        "colab": {
          "base_uri": "https://localhost:8080/",
          "height": 621
        },
        "outputId": "6db3889a-76bc-493e-8f5d-5a26b2b80d36"
      },
      "source": [
        "f, ax = plt.subplots(1, figsize=(10, 10))\n",
        "\n",
        "w2v_small_gender_debias.plot_projection_scores(n_extreme=20, ax=ax);"
      ],
      "execution_count": 38,
      "outputs": [
        {
          "output_type": "display_data",
          "data": {
            "image/png": "[encoded data removed]",
            "text/plain": [
              "<Figure size 720x720 with 1 Axes>"
            ]
          },
          "metadata": {
            "tags": [],
            "needs_background": "light"
          }
        }
      ]
    },
    {
      "cell_type": "code",
      "metadata": {
        "id": "aMChX6EtC3vI",
        "colab": {
          "base_uri": "https://localhost:8080/",
          "height": 513
        },
        "outputId": "0abc7583-4f33-41d1-bd40-ca22be7fb31f"
      },
      "source": [
        "f, ax = plt.subplots(1, figsize=(10, 8))\n",
        "\n",
        "w2v_small_gender_debias.plot_factual_association(ax=ax);"
      ],
      "execution_count": 39,
      "outputs": [
        {
          "output_type": "display_data",
          "data": {
            "image/png": "[encoded data removed]",
            "text/plain": [
              "<Figure size 720x576 with 1 Axes>"
            ]
          },
          "metadata": {
            "tags": [],
            "needs_background": "light"
          }
        }
      ]
    },
    {
      "cell_type": "markdown",
      "metadata": {
        "id": "MKh54qxZC3vI"
      },
      "source": [
        "## Equalize\n",
        "\n",
        "- Do you see that `man` and `woman` have a different projection on the gender direction? \n",
        "\n",
        "- It might cause to different similarity (distance) to neutral words, such as to `babysitter`"
      ]
    },
    {
      "cell_type": "code",
      "metadata": {
        "id": "ulo550zHC3vJ",
        "colab": {
          "base_uri": "https://localhost:8080/"
        },
        "outputId": "fe21ef05-207b-4238-d101-44725f86a6ab"
      },
      "source": [
        "w2v_small_gender_debias.model['grandfather'] @ w2v_small_gender_debias.model['babysitter']"
      ],
      "execution_count": 40,
      "outputs": [
        {
          "output_type": "execute_result",
          "data": {
            "text/plain": [
              "0.30331388"
            ]
          },
          "metadata": {
            "tags": []
          },
          "execution_count": 40
        }
      ]
    },
    {
      "cell_type": "code",
      "metadata": {
        "id": "W_bY_M7_C3vJ",
        "colab": {
          "base_uri": "https://localhost:8080/"
        },
        "outputId": "e27dabbd-5979-4cf7-cf49-a59c530d5d49"
      },
      "source": [
        "w2v_small_gender_debias.model['grandmother'] @ w2v_small_gender_debias.model['babysitter']"
      ],
      "execution_count": 41,
      "outputs": [
        {
          "output_type": "execute_result",
          "data": {
            "text/plain": [
              "0.4470843"
            ]
          },
          "metadata": {
            "tags": []
          },
          "execution_count": 41
        }
      ]
    },
    {
      "cell_type": "code",
      "metadata": {
        "id": "2BcJxNYWC3vJ",
        "colab": {
          "base_uri": "https://localhost:8080/"
        },
        "outputId": "9f68a929-a473-4ea7-9eb7-258afd996d5b"
      },
      "source": [
        "BOLUKBASI_DATA['gender']['equalize_pairs'][:10]"
      ],
      "execution_count": 42,
      "outputs": [
        {
          "output_type": "execute_result",
          "data": {
            "text/plain": [
              "[['monastery', 'convent'],\n",
              " ['spokesman', 'spokeswoman'],\n",
              " ['Catholic_priest', 'nun'],\n",
              " ['Dad', 'Mom'],\n",
              " ['Men', 'Women'],\n",
              " ['councilman', 'councilwoman'],\n",
              " ['grandpa', 'grandma'],\n",
              " ['grandsons', 'granddaughters'],\n",
              " ['prostate_cancer', 'ovarian_cancer'],\n",
              " ['testosterone', 'estrogen']]"
            ]
          },
          "metadata": {
            "tags": []
          },
          "execution_count": 42
        }
      ]
    },
    {
      "cell_type": "markdown",
      "metadata": {
        "id": "jZrAc0y-C3vJ"
      },
      "source": [
        "## Hard Debias = Neutralize + Equalize"
      ]
    },
    {
      "cell_type": "code",
      "metadata": {
        "id": "gB5VkrfeC3vJ"
      },
      "source": [
        "w2v_small_gender_debias = w2v_small_gender_bias.debias(method='hard', inplace=False)"
      ],
      "execution_count": 43,
      "outputs": []
    },
    {
      "cell_type": "code",
      "metadata": {
        "id": "R4UL6HBOC3vJ",
        "colab": {
          "base_uri": "https://localhost:8080/"
        },
        "outputId": "a7e820c0-9bde-44c6-95b6-9f65ab4eb4a0"
      },
      "source": [
        "print('home:',\n",
        "      'before =', w2v_small_gender_bias.model['home'] @ w2v_small_gender_bias.direction,\n",
        "      'after = ', w2v_small_gender_debias.model['home'] @ w2v_small_gender_debias.direction)"
      ],
      "execution_count": 44,
      "outputs": [
        {
          "output_type": "stream",
          "text": [
            "home: before = 0.011340496779172263 after =  -1.176245451061858e-09\n"
          ],
          "name": "stdout"
        }
      ]
    },
    {
      "cell_type": "code",
      "metadata": {
        "id": "LnTmE2L5C3vJ",
        "colab": {
          "base_uri": "https://localhost:8080/"
        },
        "outputId": "70a2adbb-cc31-4caf-cd96-28520c789477"
      },
      "source": [
        "print('man:',\n",
        "      'before =', w2v_small_gender_bias.model['man'] @ w2v_small_gender_bias.direction,\n",
        "      'after = ', w2v_small_gender_debias.model['man'] @ w2v_small_gender_debias.direction)"
      ],
      "execution_count": 45,
      "outputs": [
        {
          "output_type": "stream",
          "text": [
            "man: before = -0.22095192936041713 after =  -0.34693385860531334\n"
          ],
          "name": "stdout"
        }
      ]
    },
    {
      "cell_type": "code",
      "metadata": {
        "id": "zD8SJLt3C3vJ",
        "colab": {
          "base_uri": "https://localhost:8080/"
        },
        "outputId": "ca6e4aad-c3e7-48df-cf00-365a004ee040"
      },
      "source": [
        "print('woman:',\n",
        "      'before =', w2v_small_gender_bias.model['woman'] @ w2v_small_gender_bias.direction,\n",
        "      'after = ', w2v_small_gender_debias.model['woman'] @ w2v_small_gender_debias.direction)"
      ],
      "execution_count": 46,
      "outputs": [
        {
          "output_type": "stream",
          "text": [
            "woman: before = 0.3403474745246814 after =  0.34693386130538406\n"
          ],
          "name": "stdout"
        }
      ]
    },
    {
      "cell_type": "code",
      "metadata": {
        "id": "8ZVur5jOC3vK",
        "colab": {
          "base_uri": "https://localhost:8080/"
        },
        "outputId": "e8e9adae-7935-417a-fb3d-9d7b24e0c506"
      },
      "source": [
        "w2v_small_gender_debias.calc_direct_bias()"
      ],
      "execution_count": 47,
      "outputs": [
        {
          "output_type": "execute_result",
          "data": {
            "text/plain": [
              "1.1780665108830956e-09"
            ]
          },
          "metadata": {
            "tags": []
          },
          "execution_count": 47
        }
      ]
    },
    {
      "cell_type": "code",
      "metadata": {
        "id": "IPslsCZJC3vK",
        "colab": {
          "base_uri": "https://localhost:8080/"
        },
        "outputId": "438e317c-c512-4247-bd3e-778a53a1ddd2"
      },
      "source": [
        "w2v_small_gender_debias.model['grandfather'] @ w2v_small_gender_debias.model['babysitter']"
      ],
      "execution_count": 48,
      "outputs": [
        {
          "output_type": "execute_result",
          "data": {
            "text/plain": [
              "0.37519908"
            ]
          },
          "metadata": {
            "tags": []
          },
          "execution_count": 48
        }
      ]
    },
    {
      "cell_type": "code",
      "metadata": {
        "id": "0uqdHLMDC3vK",
        "colab": {
          "base_uri": "https://localhost:8080/"
        },
        "outputId": "d34bf70c-7a8b-42ec-e599-0409b1fd4859"
      },
      "source": [
        "w2v_small_gender_debias.model['grandmother'] @ w2v_small_gender_debias.model['babysitter']"
      ],
      "execution_count": 49,
      "outputs": [
        {
          "output_type": "execute_result",
          "data": {
            "text/plain": [
              "0.37519905"
            ]
          },
          "metadata": {
            "tags": []
          },
          "execution_count": 49
        }
      ]
    },
    {
      "cell_type": "code",
      "metadata": {
        "id": "ZGLeaGqLC3vK",
        "colab": {
          "base_uri": "https://localhost:8080/",
          "height": 621
        },
        "outputId": "c7b88fae-8a64-44ad-b8f5-8aa8d53f94f3"
      },
      "source": [
        "f, ax = plt.subplots(1, figsize=(10, 10))\n",
        "\n",
        "w2v_small_gender_debias.plot_projection_scores(n_extreme=20, ax=ax);"
      ],
      "execution_count": 50,
      "outputs": [
        {
          "output_type": "display_data",
          "data": {
            "image/png": "[encoded data removed]",
            "text/plain": [
              "<Figure size 720x720 with 1 Axes>"
            ]
          },
          "metadata": {
            "tags": [],
            "needs_background": "light"
          }
        }
      ]
    },
    {
      "cell_type": "markdown",
      "metadata": {
        "id": "1SYGr429ANVj"
      },
      "source": [
        "The disadvantage of equalization is that it might remove meaningful association, such as the verb meaning of \"grandfather\", e.g. \"to grandfather a regulation\". Equalization removes this distinction."
      ]
    },
    {
      "cell_type": "markdown",
      "metadata": {
        "id": "FEBDBsB-C3vK"
      },
      "source": [
        "### Compare Preformances\n",
        "\n",
        "After debiasing, the performance of the word embedding, using standard benchmarks, get only slightly worse!\n",
        "\n",
        "**⚠️ It might take few minutes to run!**"
      ]
    },
    {
      "cell_type": "code",
      "metadata": {
        "id": "iFNefinzC3vK",
        "colab": {
          "base_uri": "https://localhost:8080/"
        },
        "outputId": "7617e36d-e84c-454f-bb42-9ecc60034000"
      },
      "source": [
        "w2v_small_gender_bias.evaluate_word_embedding()"
      ],
      "execution_count": 51,
      "outputs": [
        {
          "output_type": "execute_result",
          "data": {
            "text/plain": [
              "(           pearson_r  pearson_pvalue  ...  spearman_pvalue  ratio_unkonwn_words\n",
              " WS353          0.645           0.000  ...            0.000                9.915\n",
              " RG65           0.576           0.232  ...            0.321               14.286\n",
              " RW             0.611           0.000  ...            0.000               77.384\n",
              " Mturk          0.650           0.000  ...            0.000                1.558\n",
              " MEN            0.766           0.000  ...            0.000               15.148\n",
              " SimLex999      0.456           0.000  ...            0.000                1.702\n",
              " TR9856         0.666           0.000  ...            0.000               89.722\n",
              " \n",
              " [7 rows x 5 columns],             score\n",
              " MSR-syntax  0.750\n",
              " Google      0.729)"
            ]
          },
          "metadata": {
            "tags": []
          },
          "execution_count": 51
        }
      ]
    },
    {
      "cell_type": "code",
      "metadata": {
        "id": "8pnxA6vzC3vK",
        "colab": {
          "base_uri": "https://localhost:8080/"
        },
        "outputId": "25561eb2-7dae-4049-a1eb-a0806a2b97a9"
      },
      "source": [
        "w2v_small_gender_debias.evaluate_word_embedding()"
      ],
      "execution_count": 52,
      "outputs": [
        {
          "output_type": "execute_result",
          "data": {
            "text/plain": [
              "(           pearson_r  pearson_pvalue  ...  spearman_pvalue  ratio_unkonwn_words\n",
              " WS353          0.643           0.000  ...            0.000                9.915\n",
              " RG65           0.574           0.234  ...            0.321               14.286\n",
              " RW             0.611           0.000  ...            0.000               77.384\n",
              " Mturk          0.651           0.000  ...            0.000                1.558\n",
              " MEN            0.766           0.000  ...            0.000               15.148\n",
              " SimLex999      0.459           0.000  ...            0.000                1.702\n",
              " TR9856         0.665           0.000  ...            0.000               89.722\n",
              " \n",
              " [7 rows x 5 columns],             score\n",
              " MSR-syntax  0.751\n",
              " Google      0.726)"
            ]
          },
          "metadata": {
            "tags": []
          },
          "execution_count": 52
        }
      ]
    },
    {
      "cell_type": "markdown",
      "metadata": {
        "id": "IF3mIYJQC3vL"
      },
      "source": [
        "# So What?\n",
        "We removed the gender bias, **as we defined it**, in a word embedding - \n",
        "Is there any impact on a downstream application?\n",
        "In [this notebook](https://colab.research.google.com/drive/1_QpNw4aa2BduyFp1XcabB7f_u1limH6S?usp=sharing) you can find some examples of the impact of removing bias. \n",
        "\n",
        "In a nutshell, what we did: "
      ]
    },
    {
      "cell_type": "code",
      "metadata": {
        "id": "sy0DzC_jLHrA"
      },
      "source": [
        "from responsibly.we import GenderBiasWE\n",
        "\n",
        "w2v_small_gender_bias = GenderBiasWE(w2v_small, only_lower=True)\n",
        "\n",
        "w2v_small_gender_debias = w2v_small_gender_bias.debias(method='neutralize', inplace=False)"
      ],
      "execution_count": 53,
      "outputs": []
    },
    {
      "cell_type": "code",
      "metadata": {
        "colab": {
          "base_uri": "https://localhost:8080/"
        },
        "id": "fmN6DakILKNU",
        "outputId": "751a544c-7655-47cc-8d9f-eb69d0f1be2b"
      },
      "source": [
        "w2v_small_gender_bias.calc_direct_bias()"
      ],
      "execution_count": 54,
      "outputs": [
        {
          "output_type": "execute_result",
          "data": {
            "text/plain": [
              "0.07307905496967441"
            ]
          },
          "metadata": {
            "tags": []
          },
          "execution_count": 54
        }
      ]
    },
    {
      "cell_type": "code",
      "metadata": {
        "colab": {
          "base_uri": "https://localhost:8080/"
        },
        "id": "uYDzILMcLLfO",
        "outputId": "eaac2c2f-e74d-4c69-d053-0cfd37235b30"
      },
      "source": [
        "w2v_small_gender_debias.calc_direct_bias()"
      ],
      "execution_count": 55,
      "outputs": [
        {
          "output_type": "execute_result",
          "data": {
            "text/plain": [
              "1.167572999942693e-09"
            ]
          },
          "metadata": {
            "tags": []
          },
          "execution_count": 55
        }
      ]
    },
    {
      "cell_type": "markdown",
      "metadata": {
        "id": "YacvyFIIC3vL"
      },
      "source": [
        "# WEAT metric\n",
        "\n",
        "Another metric worth mentioning is called **WEAT** (Word Embedding Association Test) which is inspired by **IAT** (Implicit-Association Test) from Pyschology.\n",
        "\n",
        "Try IAT by yourself: https://implicit.harvard.edu/implicit/\n",
        "\n",
        "**Caliskan, A., Bryson, J. J., & Narayanan, A. (2017). [Semantics derived automatically from language corpora contain human-like biases.](http://www.cs.bath.ac.uk/~jjb/ftp/CaliskanEtAl-authors-full.pdf) Science, 356(6334), 183-186.**\n",
        "\n",
        "\n",
        "## Ingredients\n",
        "\n",
        "1. Attribute words (e.g., Male ve. Female)\n",
        "\n",
        "2. Target words (e.g., words related to Math vs. words related to Arts)\n",
        "\n",
        "The null hypothesis is that there is no difference between the two sets of target words in terms of their relative similarity to the two sets of attribute words.\n",
        "\n",
        "We are not going to include WEAT in this tutorial \n",
        "but in [this notebook](https://colab.research.google.com/drive/1EF54a6pKL1gu0SQtiyXt835y9Q_hBv12?usp=sharing) there is a tutorial using responsibly!  "
      ]
    },
    {
      "cell_type": "markdown",
      "metadata": {
        "id": "EVMLVzKaTM5-"
      },
      "source": [
        "# Your Turn!"
      ]
    },
    {
      "cell_type": "code",
      "metadata": {
        "id": "BgsASXY2TM5_"
      },
      "source": [
        "from responsibly.we import load_w2v_small\n",
        "\n",
        "w2v_small = load_w2v_small()"
      ],
      "execution_count": 61,
      "outputs": []
    },
    {
      "cell_type": "markdown",
      "metadata": {
        "id": "gPVjrwpwTM6G"
      },
      "source": [
        "## Racial bias\n",
        "\n",
        "Let's explor racial bias usint Tolga's approche. Will use the [`responsibly.we.BiasWordEmbedding`](http://docs.responsibly.ai/word-embedding-bias.html#ethically.we.bias.BiasWordEmbedding) class. `GenderBiasWE` is a sub-class of `BiasWordEmbedding`."
      ]
    },
    {
      "cell_type": "code",
      "metadata": {
        "id": "8gB82y7hTM6H"
      },
      "source": [
        "from responsibly.we import BiasWordEmbedding\n",
        "\n",
        "w2v_small_racial_bias = BiasWordEmbedding(w2v_small, only_lower=True)"
      ],
      "execution_count": 62,
      "outputs": []
    },
    {
      "cell_type": "markdown",
      "metadata": {
        "id": "V5Pa-_OOTM6J"
      },
      "source": [
        "Identify the racial direction using the `sum` method"
      ]
    },
    {
      "cell_type": "code",
      "metadata": {
        "id": "d8NjJ3fPTM6K"
      },
      "source": [
        "white_common_names = ['Emily', 'Anne', 'Jill', 'Allison', 'Laurie', 'Sarah', 'Meredith', 'Carrie',\n",
        "                      'Kristen', 'Todd', 'Neil', 'Geoffrey', 'Brett', 'Brendan', 'Greg', 'Matthew',\n",
        "                      'Jay', 'Brad']\n",
        "\n",
        "black_common_names = ['Aisha', 'Keisha', 'Tamika', 'Lakisha', 'Tanisha', 'Latoya', 'Kenya', 'Latonya',\n",
        "                      'Ebony', 'Rasheed', 'Tremayne', 'Kareem', 'Darnell', 'Tyrone', 'Hakim', 'Jamal',\n",
        "                      'Leroy', 'Jermaine']\n",
        "\n",
        "w2v_small_racial_bias._identify_direction('Whites', 'Blacks',\n",
        "                                          definitional=(white_common_names, black_common_names),\n",
        "                                          method='sum')"
      ],
      "execution_count": 63,
      "outputs": []
    },
    {
      "cell_type": "markdown",
      "metadata": {
        "id": "BQzNVMgITM6N"
      },
      "source": [
        "Use the neutral profession names to measure the racial bias"
      ]
    },
    {
      "cell_type": "code",
      "metadata": {
        "id": "6VsIaNeTTM6N"
      },
      "source": [
        "from responsibly.we.data import BOLUKBASI_DATA\n",
        "\n",
        "neutral_profession_names = BOLUKBASI_DATA['gender']['neutral_profession_names']"
      ],
      "execution_count": 64,
      "outputs": []
    },
    {
      "cell_type": "code",
      "metadata": {
        "id": "iQMUSBpKTM6Q",
        "colab": {
          "base_uri": "https://localhost:8080/"
        },
        "outputId": "7ea7f240-d79b-4d0d-b4ae-48c24ee4acbb"
      },
      "source": [
        "neutral_profession_names[:10]"
      ],
      "execution_count": 65,
      "outputs": [
        {
          "output_type": "execute_result",
          "data": {
            "text/plain": [
              "['accountant',\n",
              " 'acquaintance',\n",
              " 'actor',\n",
              " 'adjunct_professor',\n",
              " 'administrator',\n",
              " 'adventurer',\n",
              " 'advocate',\n",
              " 'aide',\n",
              " 'alderman',\n",
              " 'alter_ego']"
            ]
          },
          "metadata": {
            "tags": []
          },
          "execution_count": 65
        }
      ]
    },
    {
      "cell_type": "code",
      "metadata": {
        "id": "E3appKv5TM6S",
        "colab": {
          "base_uri": "https://localhost:8080/",
          "height": 621
        },
        "outputId": "29afa301-1537-4d45-c035-1da99207e8cd"
      },
      "source": [
        "import matplotlib.pylab as plt\n",
        "\n",
        "f, ax = plt.subplots(1, figsize=(10, 10))\n",
        "\n",
        "w2v_small_racial_bias.plot_projection_scores(neutral_profession_names, n_extreme=20, ax=ax);"
      ],
      "execution_count": 66,
      "outputs": [
        {
          "output_type": "display_data",
          "data": {
            "image/png": "[encoded data removed]",
            "text/plain": [
              "<Figure size 720x720 with 1 Axes>"
            ]
          },
          "metadata": {
            "tags": [],
            "needs_background": "light"
          }
        }
      ]
    },
    {
      "cell_type": "markdown",
      "metadata": {
        "id": "QvmZXAdKTM6Z"
      },
      "source": [
        "Calculate the direct bias measure"
      ]
    },
    {
      "cell_type": "code",
      "metadata": {
        "id": "80S8S-3hTM6a"
      },
      "source": [
        "# Your Code Here..."
      ],
      "execution_count": 67,
      "outputs": []
    },
    {
      "cell_type": "markdown",
      "metadata": {
        "id": "MSFdc0NWTM6d"
      },
      "source": [
        "Keep exploring the racial bias"
      ]
    },
    {
      "cell_type": "code",
      "metadata": {
        "id": "GDjRDxz_TM6d"
      },
      "source": [
        "# Your Code Here..."
      ],
      "execution_count": 68,
      "outputs": []
    },
    {
      "cell_type": "markdown",
      "metadata": {
        "id": "dqSvbe2sC3vd"
      },
      "source": [
        "# Resources\n",
        "\n",
        "## [Doing Data Science Responsibly - Resources](https://handbook.responsibly.ai/appendices/resources.html)\n",
        "\n",
        "In particular:\n",
        "\n",
        "- Timnit Gebru and Emily Denton - CVPR 2020 - [FATE Tutorial](https://youtu.be/-xGvcDzvi7Q) [Video]\n",
        "\n",
        "- Rachel Thomas - fast.ai - [Algorithmic Bias (NLP video 16)](https://youtu.be/pThqge9QDn8) [Video]\n",
        "\n",
        "- Solon Barocas, Moritz Hardt, Arvind Narayanan - [Fairness and machine learning - Limitations and Opportunities](https://fairmlbook.org/) [Textbook]\n",
        "\n",
        "## [Course // Responsible AI, Law, Ethics & Society](https://learn.responsibly.ai/)\n",
        "\n",
        "## [Course // Ethic aspects in AI (in spanish, from UBA)](https://campus.exactas.uba.ar/course/view.php?id=1477&section=0)\n",
        "\n",
        "\n",
        "## Non-Technical Overview with More Downstream Application Examples\n",
        "- [Google - Text Embedding Models Contain Bias. Here's Why That Matters.](https://developers.googleblog.com/2018/04/text-embedding-models-contain-bias.html)\n",
        "- [Kai-Wei Chang (UCLA) - What It Takes to Control Societal Bias in Natural Language Processing](https://www.youtube.com/watch?v=RgcXD_1Cu18)\n",
        "- Sun, T., Gaut, A., Tang, S., Huang, Y., ElSherief, M., Zhao, J., ... & Wang, W. Y. (2019). [Mitigating Gender Bias in Natural Language Processing: Literature Review](https://arxiv.org/pdf/1906.08976.pdf). arXiv preprint arXiv:1906.08976."
      ]
    },
    {
      "cell_type": "markdown",
      "metadata": {
        "id": "4LtaZOPmC3vd"
      },
      "source": [
        "## Critical Prespective on Bias in NLP\n",
        "\n",
        "Blodgett, S. L., Barocas, S., Daumé III, H., & Wallach, H. (2020). [Language (Technology) is Power: A Critical Survey of \"Bias\" in NLP](https://arxiv.org/pdf/2005.14050.pdf). arXiv preprint arXiv:2005.14050.\n",
        "\n",
        "## Additional Related Work\n",
        "\n",
        "- **Software Framework for Word Embedding Bias**\n",
        "  - [WEFE: The Word Embeddings Fairness Evaluation Framework](https://wefe.readthedocs.io/en/latest/)\n",
        "\n",
        "- **Understanding Bias**\n",
        "    - Ethayarajh, K., Duvenaud, D., & Hirst, G. (2019, July). [Understanding Undesirable Word Embedding Associations](https://arxiv.org/pdf/1908.06361.pdf). In Proceedings of the 57th Annual Meeting of the Association for Computational Linguistics (pp. 1696-1705). - **Including critical analysis of the current metrics and debiasing methods (quite technical)**\n",
        "\n",
        "  - Brunet, M. E., Alkalay-Houlihan, C., Anderson, A., & Zemel, R. (2019, May). [Understanding the Origins of Bias in Word Embeddings](https://arxiv.org/pdf/1810.03611.pdf). In International Conference on Machine Learning (pp. 803-811).\n",
        "\n",
        "- **Discovering Bias**\n",
        "  - Swinger, N., De-Arteaga, M., Heffernan IV, N. T., Leiserson, M. D., & Kalai, A. T. (2019, January). [What are the biases in my word embedding?](https://arxiv.org/pdf/1812.08769.pdf). In Proceedings of the 2019 AAAI/ACM Conference on AI, Ethics, and Society (pp. 305-311). ACM.\n",
        "    Measuring Gender Bias in Word Embeddings across Domains and Discovering New Gender Bias Word Categories\n",
        "  \n",
        "  - Chaloner, K., & Maldonado, A. (2019, August). [Measuring Gender Bias in Word Embeddings across Domains and Discovering New Gender Bias Word Categories](https://www.aclweb.org/anthology/W19-3804). In Proceedings of the First Workshop on Gender Bias in Natural Language Processing (pp. 25-32).\n",
        "\n",
        "- **Mitigating Bias**\n",
        "  - Maudslay, R. H., Gonen, H., Cotterell, R., & Teufel, S. (2019). [It's All in the Name: Mitigating Gender Bias with Name-Based Counterfactual Data Substitution](https://arxiv.org/pdf/1909.00871.pdf). arXiv preprint arXiv:1909.00871.\n",
        "  \n",
        "  - Shin, S., Song, K., Jang, J., Kim, H., Joo, W., & Moon, I. C. (2020). [Neutralizing Gender Bias in Word Embedding with Latent Disentanglement and Counterfactual Generation](https://arxiv.org/pdf/2004.03133.pdf). arXiv preprint arXiv:2004.03133.\n",
        "  \n",
        "  - Zhang, B. H., Lemoine, B., & Mitchell, M. (2018, December). [Mitigating unwanted biases with adversarial learning](https://dl.acm.org/doi/pdf/10.1145/3278721.3278779?casa_token=yd1KGvVDBGwAAAAA:YzUT7d8Fq4bOV2b5M-CB43NLqIReW7wx2EaZj0omJ0ncbZF_pkPFoyV6WHWIBnG_HKIRqiG7FWFjsA). In Proceedings of the 2018 AAAI/ACM Conference on AI, Ethics, and Society (pp. 335-340). [Demo](https://colab.research.google.com/notebooks/ml_fairness/adversarial_debiasing.ipynb)\n",
        "  \n",
        "- **Fairness in Classification**\n",
        "  - Prost, F., Thain, N., & Bolukbasi, T. (2019, August). [Debiasing Embeddings for Reduced Gender Bias in Text Classification](https://arxiv.org/pdf/1908.02810.pdf). In Proceedings of the First Workshop on Gender Bias in Natural Language Processing (pp. 69-75).\n",
        "  \n",
        "  - Romanov, A., De-Arteaga, M., Wallach, H., Chayes, J., Borgs, C., Chouldechova, A., ... & Kalai, A. (2019, June). [What's in a Name? Reducing Bias in Bios without Access to Protected Attributes](https://arxiv.org/pdf/1904.05233.pdf). In Proceedings of the 2019 Conference of the North American Chapter of the Association for Computational Linguistics: Human Language Technologies, Volume 1 (Long and Short Papers) (pp. 4187-4195).\n",
        "\n",
        "- **Grammatical Gender**\n",
        "  - Zhou, P., Shi, W., Zhao, J., Huang, K. H., Chen, M., & Chang, K. W. [Analyzing and Mitigating Gender Bias in Languages with Grammatical Gender and Bilingual Word Embeddings](https://aiforsocialgood.github.io/icml2019/accepted/track1/pdfs/47_aisg_icml2019.pdf). ICML 2019 - AI for Social Good. [Poster](https://aiforsocialgood.github.io/icml2019/accepted/track1/posters/47_aisg_icml2019.pdf)\n",
        "\n",
        "  - Zhao, J., Mukherjee, S., Hosseini, S., Chang, K. W., & Awadallah, A. [Gender Bias in Multilingual Embeddings](https://www.researchgate.net/profile/Subhabrata_Mukherjee/publication/340660062_Gender_Bias_in_Multilingual_Embeddings/links/5e97428692851c2f52a6200a/Gender-Bias-in-Multilingual-Embeddings.pdf).\n",
        "\n",
        "  - Gonen, H., Kementchedjhieva, Y., & Goldberg, Y. (2019). [How does Grammatical Gender Affect Noun Representations in Gender-Marking Languages?](https://arxiv.org/pdf/1910.14161.pdf). arXiv preprint arXiv:1910.14161.\n",
        "\n",
        "- **Other**  \n",
        "  - Zhao, J., Wang, T., Yatskar, M., Cotterell, R., Ordonez, V., & Chang, K. W. (2019, June). [Gender Bias in Contextualized Word Embeddings](https://arxiv.org/pdf/1904.03310.pdf). In Proceedings of the 2019 Conference of the North American Chapter of the Association for Computational Linguistics: Human Language Technologies, Volume 1 (Long and Short Papers) (pp. 629-634). [slides](https://jyzhao.net/files/naacl19.pdf)\n",
        "\n",
        "\n",
        "##### Complete example of using `responsibly` with Word2Vec, GloVe and fastText: http://docs.responsibly.ai/notebooks/demo-gender-bias-words-embedding.html\n",
        "\n",
        "\n",
        "## Bias in NLP\n",
        "\n",
        "Around dozen of papers on this field until 2019, but nowdays plenty of work is done. Two venues from back then:\n",
        "- [1st ACL Workshop on Gender Bias for Natural Language Processing](https://genderbiasnlp.talp.cat/)\n",
        "- [NAACL 2019](https://naacl2019.org/)"
      ]
    }
  ]
}